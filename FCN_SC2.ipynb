{
  "nbformat": 4,
  "nbformat_minor": 0,
  "metadata": {
    "colab": {
      "name": "FCN_SC2",
      "provenance": [],
      "collapsed_sections": []
    },
    "kernelspec": {
      "name": "python3",
      "display_name": "Python 3"
    }
  },
  "cells": [
    {
      "cell_type": "markdown",
      "metadata": {
        "id": "T6sPb6S9wTew"
      },
      "source": [
        "# Load Libraries"
      ]
    },
    {
      "cell_type": "markdown",
      "metadata": {
        "id": "xZw7VarZwd-G"
      },
      "source": [
        "First step is to load the required libraries."
      ]
    },
    {
      "cell_type": "code",
      "metadata": {
        "id": "xWwF5yAuw2Xx"
      },
      "source": [
        "import numpy \n",
        "\n",
        "import matplotlib.pyplot as plt\n",
        "\n",
        "from keras.models import Sequential\n",
        "\n",
        "from keras.layers import Dense\n",
        "\n",
        "from keras.utils import np_utils\n",
        "\n",
        "from keras.datasets import mnist"
      ],
      "execution_count": null,
      "outputs": []
    },
    {
      "cell_type": "markdown",
      "metadata": {
        "id": "578Oi4Mgw9hr"
      },
      "source": [
        "# Load Dataset in Numpy Format"
      ]
    },
    {
      "cell_type": "markdown",
      "metadata": {
        "id": "dxW0gFlxxAK9"
      },
      "source": [
        "MNIST is a simple computer vision dataset. It consists of images of handwritten digits. It also includes labels for each image, telling us which digit it is.\n",
        "\n",
        "The MNIST data is split into three parts: $60,000$ data points of training data, and $10,000$ points of test data. Each image is 28 pixels by 28 pixels."
      ]
    },
    {
      "cell_type": "code",
      "metadata": {
        "id": "A9nKAP49x0GI",
        "outputId": "1eca0463-13aa-44ef-ab5e-e3b65fafa026",
        "colab": {
          "base_uri": "https://localhost:8080/",
          "height": 52
        }
      },
      "source": [
        "(X_train, y_train), (X_test, y_test) = mnist.load_data()"
      ],
      "execution_count": null,
      "outputs": [
        {
          "output_type": "stream",
          "text": [
            "Downloading data from https://storage.googleapis.com/tensorflow/tf-keras-datasets/mnist.npz\n",
            "11493376/11490434 [==============================] - 0s 0us/step\n"
          ],
          "name": "stdout"
        }
      ]
    },
    {
      "cell_type": "code",
      "metadata": {
        "id": "d4JngwOmyDpP",
        "outputId": "75755a27-2d9e-43b5-cd7e-43006c6f308e",
        "colab": {
          "base_uri": "https://localhost:8080/",
          "height": 34
        }
      },
      "source": [
        "X_train.shape"
      ],
      "execution_count": null,
      "outputs": [
        {
          "output_type": "execute_result",
          "data": {
            "text/plain": [
              "(60000, 28, 28)"
            ]
          },
          "metadata": {
            "tags": []
          },
          "execution_count": 3
        }
      ]
    },
    {
      "cell_type": "code",
      "metadata": {
        "id": "NParITruySsa",
        "outputId": "5a303fd2-f9dd-47f7-bfa2-7718b91dcb1d",
        "colab": {
          "base_uri": "https://localhost:8080/",
          "height": 34
        }
      },
      "source": [
        "y_train.shape"
      ],
      "execution_count": null,
      "outputs": [
        {
          "output_type": "execute_result",
          "data": {
            "text/plain": [
              "(60000,)"
            ]
          },
          "metadata": {
            "tags": []
          },
          "execution_count": 4
        }
      ]
    },
    {
      "cell_type": "code",
      "metadata": {
        "id": "G9qDBv-5yY3o",
        "outputId": "1fe2202a-19c5-42c8-d010-0873ccaf5745",
        "colab": {
          "base_uri": "https://localhost:8080/",
          "height": 34
        }
      },
      "source": [
        "X_test.shape"
      ],
      "execution_count": null,
      "outputs": [
        {
          "output_type": "execute_result",
          "data": {
            "text/plain": [
              "(10000, 28, 28)"
            ]
          },
          "metadata": {
            "tags": []
          },
          "execution_count": 5
        }
      ]
    },
    {
      "cell_type": "code",
      "metadata": {
        "id": "QT_EfqFVydlx",
        "outputId": "31dcc4f2-175a-48b2-baf5-da1142fbdcd6",
        "colab": {
          "base_uri": "https://localhost:8080/",
          "height": 34
        }
      },
      "source": [
        "y_test.shape"
      ],
      "execution_count": null,
      "outputs": [
        {
          "output_type": "execute_result",
          "data": {
            "text/plain": [
              "(10000,)"
            ]
          },
          "metadata": {
            "tags": []
          },
          "execution_count": 6
        }
      ]
    },
    {
      "cell_type": "code",
      "metadata": {
        "id": "nZllUnvJyiQ7",
        "outputId": "994e15d1-8213-4901-e1d5-10c58ee76464",
        "colab": {
          "base_uri": "https://localhost:8080/",
          "height": 268
        }
      },
      "source": [
        "# plot 4 images as gray scale\n",
        "plt.subplot(221)\n",
        "plt.imshow(X_train[0], cmap=plt.get_cmap('gray'))\n",
        "plt.subplot(222)\n",
        "plt.imshow(X_train[1], cmap=plt.get_cmap('gray'))\n",
        "plt.subplot(223)\n",
        "plt.imshow(X_train[2], cmap=plt.get_cmap('gray'))\n",
        "plt.subplot(224)\n",
        "plt.imshow(X_train[3], cmap=plt.get_cmap('gray'))\n",
        "# show the plot\n",
        "plt.show()"
      ],
      "execution_count": null,
      "outputs": [
        {
          "output_type": "display_data",
          "data": {
            "image/png": "[encoded data removed]",
            "text/plain": [
              "<Figure size 432x288 with 4 Axes>"
            ]
          },
          "metadata": {
            "tags": [],
            "needs_background": "light"
          }
        }
      ]
    },
    {
      "cell_type": "markdown",
      "metadata": {
        "id": "0C1TncQhzapf"
      },
      "source": [
        "# Formatting Data and Labels for Keras"
      ]
    },
    {
      "cell_type": "markdown",
      "metadata": {
        "id": "YuUHfffMzcnG"
      },
      "source": [
        "We can flatten this array into a vector of $28\\times28 = 784$ numbers. It doesn't matter how we flatten the array, as long as we're consistent between images. From this perspective, the MNIST images are just a bunch of points in a 784-dimensional vector space. The data should always be of the format (Number of data points, data point dimension). In this case the training data will be of format $60,000\\times784$."
      ]
    },
    {
      "cell_type": "code",
      "metadata": {
        "id": "WUAPRSm5zj0q"
      },
      "source": [
        "num_pixels = X_train.shape[1] * X_train.shape[2]\n",
        "\n",
        "X_train = X_train.reshape(X_train.shape[0], num_pixels).astype('float32')\n",
        "\n",
        "X_test = X_test.reshape(X_test.shape[0], num_pixels).astype('float32')\n",
        "\n",
        "X_train = X_train / 255\n",
        "\n",
        "X_test = X_test / 255\n",
        "\n",
        "y_train = np_utils.to_categorical(y_train)\n",
        "\n",
        "y_test = np_utils.to_categorical(y_test)\n",
        "\n",
        "num_classes = y_test.shape[1]"
      ],
      "execution_count": null,
      "outputs": []
    },
    {
      "cell_type": "code",
      "metadata": {
        "id": "3Qa_Wz5Bzu_x",
        "outputId": "1899a070-06c1-4631-8547-965893188ba1",
        "colab": {
          "base_uri": "https://localhost:8080/",
          "height": 34
        }
      },
      "source": [
        "X_train.shape"
      ],
      "execution_count": null,
      "outputs": [
        {
          "output_type": "execute_result",
          "data": {
            "text/plain": [
              "(60000, 784)"
            ]
          },
          "metadata": {
            "tags": []
          },
          "execution_count": 9
        }
      ]
    },
    {
      "cell_type": "code",
      "metadata": {
        "id": "tKMkULioz0BC",
        "outputId": "3e39fc88-714c-4fd6-db36-74a24d05c891",
        "colab": {
          "base_uri": "https://localhost:8080/",
          "height": 34
        }
      },
      "source": [
        "X_test.shape"
      ],
      "execution_count": null,
      "outputs": [
        {
          "output_type": "execute_result",
          "data": {
            "text/plain": [
              "(10000, 784)"
            ]
          },
          "metadata": {
            "tags": []
          },
          "execution_count": 10
        }
      ]
    },
    {
      "cell_type": "code",
      "metadata": {
        "id": "gjXdMAgQz3Yk",
        "outputId": "0a6269e0-d6ff-49ba-fc85-7bb0606dd853",
        "colab": {
          "base_uri": "https://localhost:8080/",
          "height": 34
        }
      },
      "source": [
        "y_train.shape"
      ],
      "execution_count": null,
      "outputs": [
        {
          "output_type": "execute_result",
          "data": {
            "text/plain": [
              "(60000, 10)"
            ]
          },
          "metadata": {
            "tags": []
          },
          "execution_count": 11
        }
      ]
    },
    {
      "cell_type": "code",
      "metadata": {
        "id": "YwG7OnE5z5av",
        "outputId": "a24a2834-5a34-4b72-bef3-91da35ea6c08",
        "colab": {
          "base_uri": "https://localhost:8080/",
          "height": 34
        }
      },
      "source": [
        "y_test.shape"
      ],
      "execution_count": null,
      "outputs": [
        {
          "output_type": "execute_result",
          "data": {
            "text/plain": [
              "(10000, 10)"
            ]
          },
          "metadata": {
            "tags": []
          },
          "execution_count": 12
        }
      ]
    },
    {
      "cell_type": "markdown",
      "metadata": {
        "id": "VUZqC-Mf0F4a"
      },
      "source": [
        "# Defining a single layer neural network model"
      ]
    },
    {
      "cell_type": "markdown",
      "metadata": {
        "id": "S5-Tn0K30Hyq"
      },
      "source": [
        "Here we will define a single layer neural network. It will have a input layer of $784$ neurons, i.e. the input dimension and output layer of $10$ neurons, i.e. number of classes. The activation function used will be softmax activation."
      ]
    },
    {
      "cell_type": "code",
      "metadata": {
        "id": "IlB928RI0LWk"
      },
      "source": [
        "# create model\n",
        "\n",
        "model = Sequential()\n",
        "\n",
        "model.add(Dense(num_classes, input_dim=num_pixels, activation='softmax'))\n"
      ],
      "execution_count": null,
      "outputs": []
    },
    {
      "cell_type": "markdown",
      "metadata": {
        "id": "0woBCP1C0TV-"
      },
      "source": [
        "# Compiling the model"
      ]
    },
    {
      "cell_type": "markdown",
      "metadata": {
        "id": "4aSmUA3-0WIJ"
      },
      "source": [
        "Once the model is defined, we have to compile it. While compiling we provide the loss function to be used, the optimizer and any metric. Here we will use crossentropy loss with Adam optimizer and accuracy as a metric."
      ]
    },
    {
      "cell_type": "code",
      "metadata": {
        "id": "c8n--FDX0YjB"
      },
      "source": [
        "# Compile model\n",
        "\n",
        "model.compile(loss='categorical_crossentropy', optimizer='adam', metrics=['accuracy'])\n"
      ],
      "execution_count": null,
      "outputs": []
    },
    {
      "cell_type": "markdown",
      "metadata": {
        "id": "xq5f_ROP0ieD"
      },
      "source": [
        "# Training/Fitting the model"
      ]
    },
    {
      "cell_type": "markdown",
      "metadata": {
        "id": "V3gWi2g40kSf"
      },
      "source": [
        "Now the model is ready to be trained. We will provide training data to the network. Also we will specify the validation data, over which the model will only be validated."
      ]
    },
    {
      "cell_type": "code",
      "metadata": {
        "id": "xsJq43ok0mlT",
        "outputId": "23bcfa95-450a-4c8f-fb06-6ecb6eb30721",
        "colab": {
          "base_uri": "https://localhost:8080/",
          "height": 381
        }
      },
      "source": [
        "# Training model\n",
        "\n",
        "model.fit(X_train, y_train, validation_data=(X_test, y_test), epochs=10, batch_size=200)"
      ],
      "execution_count": null,
      "outputs": [
        {
          "output_type": "stream",
          "text": [
            "Epoch 1/10\n",
            "300/300 [==============================] - 1s 3ms/step - loss: 0.8042 - accuracy: 0.8061 - val_loss: 0.4371 - val_accuracy: 0.8907\n",
            "Epoch 2/10\n",
            "300/300 [==============================] - 1s 2ms/step - loss: 0.4035 - accuracy: 0.8947 - val_loss: 0.3466 - val_accuracy: 0.9090\n",
            "Epoch 3/10\n",
            "300/300 [==============================] - 1s 2ms/step - loss: 0.3457 - accuracy: 0.9066 - val_loss: 0.3166 - val_accuracy: 0.9139\n",
            "Epoch 4/10\n",
            "300/300 [==============================] - 1s 2ms/step - loss: 0.3189 - accuracy: 0.9129 - val_loss: 0.3005 - val_accuracy: 0.9169\n",
            "Epoch 5/10\n",
            "300/300 [==============================] - 1s 2ms/step - loss: 0.3032 - accuracy: 0.9165 - val_loss: 0.2897 - val_accuracy: 0.9184\n",
            "Epoch 6/10\n",
            "300/300 [==============================] - 1s 2ms/step - loss: 0.2927 - accuracy: 0.9191 - val_loss: 0.2810 - val_accuracy: 0.9224\n",
            "Epoch 7/10\n",
            "300/300 [==============================] - 1s 2ms/step - loss: 0.2849 - accuracy: 0.9213 - val_loss: 0.2774 - val_accuracy: 0.9226\n",
            "Epoch 8/10\n",
            "300/300 [==============================] - 1s 2ms/step - loss: 0.2788 - accuracy: 0.9228 - val_loss: 0.2738 - val_accuracy: 0.9234\n",
            "Epoch 9/10\n",
            "300/300 [==============================] - 1s 2ms/step - loss: 0.2743 - accuracy: 0.9236 - val_loss: 0.2729 - val_accuracy: 0.9251\n",
            "Epoch 10/10\n",
            "300/300 [==============================] - 1s 2ms/step - loss: 0.2705 - accuracy: 0.9248 - val_loss: 0.2690 - val_accuracy: 0.9252\n"
          ],
          "name": "stdout"
        },
        {
          "output_type": "execute_result",
          "data": {
            "text/plain": [
              "<tensorflow.python.keras.callbacks.History at 0x7f8b8be04f28>"
            ]
          },
          "metadata": {
            "tags": []
          },
          "execution_count": 15
        }
      ]
    },
    {
      "cell_type": "markdown",
      "metadata": {
        "id": "b4BjzfDW0w6v"
      },
      "source": [
        "# Evaluating the model"
      ]
    },
    {
      "cell_type": "markdown",
      "metadata": {
        "id": "_0FdSOdT01df"
      },
      "source": [
        "Finally we will evaluate the model on the testing dataset."
      ]
    },
    {
      "cell_type": "code",
      "metadata": {
        "id": "atp-I5qg04Ao",
        "outputId": "bd53685e-4989-4f36-9948-2fb52524b86b",
        "colab": {
          "base_uri": "https://localhost:8080/",
          "height": 52
        }
      },
      "source": [
        "# Final evaluation of the model\n",
        "\n",
        "scores = model.evaluate(X_test, y_test)\n",
        "\n",
        "print(\"Baseline Error: %.2f%%\" % (100-scores[1]*100))"
      ],
      "execution_count": null,
      "outputs": [
        {
          "output_type": "stream",
          "text": [
            "313/313 [==============================] - 0s 1ms/step - loss: 0.2690 - accuracy: 0.9252\n",
            "Baseline Error: 7.48%\n"
          ],
          "name": "stdout"
        }
      ]
    },
    {
      "cell_type": "markdown",
      "metadata": {
        "id": "7Ux0ZGYe1Abb"
      },
      "source": [
        "# Defining a multi-layer model"
      ]
    },
    {
      "cell_type": "markdown",
      "metadata": {
        "id": "N9zn7vqG1DUh"
      },
      "source": [
        "Now we will define a multi layer neural network in which we will add $2$ hidden layers having $500$ and $100$ neurons."
      ]
    },
    {
      "cell_type": "code",
      "metadata": {
        "id": "NyWnrEko1D-4"
      },
      "source": [
        "model = Sequential()\n",
        "\n",
        "model.add(Dense(500, input_dim=num_pixels, activation='relu'))\n",
        "\n",
        "model.add(Dense(100, activation='relu'))\n",
        "\n",
        "model.add(Dense(num_classes, activation='softmax'))\n"
      ],
      "execution_count": null,
      "outputs": []
    },
    {
      "cell_type": "code",
      "metadata": {
        "id": "2OT0zQrT1FtF",
        "outputId": "ac8f570b-ddf1-44e2-fa3f-55bced764619",
        "colab": {
          "base_uri": "https://localhost:8080/",
          "height": 398
        }
      },
      "source": [
        "# Compile model\n",
        "\n",
        "model.compile(loss='categorical_crossentropy', optimizer='adam', metrics=['accuracy'])\n",
        "\n",
        "# Training model\n",
        "\n",
        "model.fit(X_train, y_train, validation_data=(X_test, y_test), epochs=10, batch_size=200)\n",
        "\n",
        "# Final evaluation of the model\n",
        "\n",
        "scores = model.evaluate(X_test, y_test)\n",
        "\n",
        "print(\"Baseline Error: %.2f%%\" % (100-scores[1]*100))"
      ],
      "execution_count": null,
      "outputs": [
        {
          "output_type": "stream",
          "text": [
            "Epoch 1/10\n",
            "300/300 [==============================] - 4s 12ms/step - loss: 0.2707 - accuracy: 0.9222 - val_loss: 0.1276 - val_accuracy: 0.9614\n",
            "Epoch 2/10\n",
            "300/300 [==============================] - 4s 12ms/step - loss: 0.0980 - accuracy: 0.9707 - val_loss: 0.0920 - val_accuracy: 0.9700\n",
            "Epoch 3/10\n",
            "300/300 [==============================] - 4s 12ms/step - loss: 0.0642 - accuracy: 0.9801 - val_loss: 0.0697 - val_accuracy: 0.9785\n",
            "Epoch 4/10\n",
            "300/300 [==============================] - 4s 12ms/step - loss: 0.0434 - accuracy: 0.9865 - val_loss: 0.0673 - val_accuracy: 0.9782\n",
            "Epoch 5/10\n",
            "300/300 [==============================] - 4s 12ms/step - loss: 0.0303 - accuracy: 0.9907 - val_loss: 0.0624 - val_accuracy: 0.9808\n",
            "Epoch 6/10\n",
            "300/300 [==============================] - 4s 12ms/step - loss: 0.0228 - accuracy: 0.9929 - val_loss: 0.0651 - val_accuracy: 0.9807\n",
            "Epoch 7/10\n",
            "300/300 [==============================] - 4s 12ms/step - loss: 0.0168 - accuracy: 0.9951 - val_loss: 0.0737 - val_accuracy: 0.9777\n",
            "Epoch 8/10\n",
            "300/300 [==============================] - 4s 12ms/step - loss: 0.0143 - accuracy: 0.9953 - val_loss: 0.0656 - val_accuracy: 0.9801\n",
            "Epoch 9/10\n",
            "300/300 [==============================] - 4s 12ms/step - loss: 0.0129 - accuracy: 0.9961 - val_loss: 0.0660 - val_accuracy: 0.9811\n",
            "Epoch 10/10\n",
            "300/300 [==============================] - 4s 12ms/step - loss: 0.0086 - accuracy: 0.9974 - val_loss: 0.0753 - val_accuracy: 0.9812\n",
            "313/313 [==============================] - 1s 3ms/step - loss: 0.0753 - accuracy: 0.9812\n",
            "Baseline Error: 1.88%\n"
          ],
          "name": "stdout"
        }
      ]
    }
  ]
}