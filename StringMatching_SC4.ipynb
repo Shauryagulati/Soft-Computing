{
  "nbformat": 4,
  "nbformat_minor": 0,
  "metadata": {
    "colab": {
      "name": "StringMatching_SC4",
      "provenance": [],
      "authorship_tag": "ABX9TyPMqFGP8npLFz6IoYjGIGLC",
      "include_colab_link": true
    },
    "kernelspec": {
      "name": "python3",
      "display_name": "Python 3"
    }
  },
  "cells": [
    {
      "cell_type": "markdown",
      "metadata": {
        "id": "view-in-github",
        "colab_type": "text"
      },
      "source": [
        "<a href=\"https://colab.research.google.com/github/Shauryagulati/Soft-Computing/blob/main/StringMatching_SC4.ipynb\" target=\"_parent\"><img src=\"https://colab.research.google.com/assets/colab-badge.svg\" alt=\"Open In Colab\"/></a>"
      ]
    },
    {
      "cell_type": "code",
      "metadata": {
        "id": "hOp5sJcnzkDw",
        "outputId": "ac43679b-e7bb-4268-8c13-a793ff7a173d",
        "colab": {
          "base_uri": "https://localhost:8080/",
          "height": 86
        }
      },
      "source": [
        "!pip3 install fuzzywuzzy"
      ],
      "execution_count": null,
      "outputs": [
        {
          "output_type": "stream",
          "text": [
            "Collecting fuzzywuzzy\n",
            "  Downloading https://files.pythonhosted.org/packages/43/ff/74f23998ad2f93b945c0309f825be92e04e0348e062026998b5eefef4c33/fuzzywuzzy-0.18.0-py2.py3-none-any.whl\n",
            "Installing collected packages: fuzzywuzzy\n",
            "Successfully installed fuzzywuzzy-0.18.0\n"
          ],
          "name": "stdout"
        }
      ]
    },
    {
      "cell_type": "code",
      "metadata": {
        "id": "GGIfEgYWzmqP",
        "outputId": "f74edbf0-1f47-43c8-9e8a-fbf2c8456358",
        "colab": {
          "base_uri": "https://localhost:8080/",
          "height": 52
        }
      },
      "source": [
        "from fuzzywuzzy import fuzz \n",
        "from fuzzywuzzy import process "
      ],
      "execution_count": null,
      "outputs": [
        {
          "output_type": "stream",
          "text": [
            "/usr/local/lib/python3.6/dist-packages/fuzzywuzzy/fuzz.py:11: UserWarning: Using slow pure-python SequenceMatcher. Install python-Levenshtein to remove this warning\n",
            "  warnings.warn('Using slow pure-python SequenceMatcher. Install python-Levenshtein to remove this warning')\n"
          ],
          "name": "stderr"
        }
      ]
    },
    {
      "cell_type": "code",
      "metadata": {
        "id": "Ln44eKqU05wu"
      },
      "source": [
        "s1 = \"I love GeeksforGeeks\"\n",
        "s2 = \"I am loving GeeksforGeeks\""
      ],
      "execution_count": null,
      "outputs": []
    },
    {
      "cell_type": "code",
      "metadata": {
        "id": "nnhS4RmP0_rv",
        "outputId": "fed4ae32-051d-4786-8b39-41cbdba8046a",
        "colab": {
          "base_uri": "https://localhost:8080/",
          "height": 104
        }
      },
      "source": [
        "print (\"FuzzyWuzzy Ratio: \", fuzz.ratio(s1, s2))\n",
        "print (\"FuzzyWuzzy PartialRatio: \", fuzz.partial_ratio(s1, s2))\n",
        "print (\"FuzzyWuzzy TokenSortRatio: \", fuzz.token_sort_ratio(s1, s2))\n",
        "print (\"FuzzyWuzzy TokenSetRatio: \", fuzz.token_set_ratio(s1, s2))\n",
        "print (\"FuzzyWuzzy WRatio: \", fuzz.WRatio(s1, s2))"
      ],
      "execution_count": null,
      "outputs": [
        {
          "output_type": "stream",
          "text": [
            "FuzzyWuzzy Ratio:  84\n",
            "FuzzyWuzzy PartialRatio:  85\n",
            "FuzzyWuzzy TokenSortRatio:  84\n",
            "FuzzyWuzzy TokenSetRatio:  86\n",
            "FuzzyWuzzy WRatio:  84\n"
          ],
          "name": "stdout"
        }
      ]
    },
    {
      "cell_type": "code",
      "metadata": {
        "id": "Mohu6p8j1DvL",
        "outputId": "90ed5391-7add-42d3-d66d-155a44c7bac9",
        "colab": {
          "base_uri": "https://localhost:8080/",
          "height": 86
        }
      },
      "source": [
        "query = 'geeks for geeks'\n",
        "choices = ['geek for geek', 'geek geek', 'g. for geeks'] \n",
        "print (\"List of ratios: \")\n",
        "print (process.extract(query, choices), '\\n')\n",
        "print (\"Best among the above list: \",process.extractOne(query, choices))"
      ],
      "execution_count": null,
      "outputs": [
        {
          "output_type": "stream",
          "text": [
            "List of ratios: \n",
            "[('g. for geeks', 95), ('geek for geek', 93), ('geek geek', 86)] \n",
            "\n",
            "Best among the above list:  ('g. for geeks', 95)\n"
          ],
          "name": "stdout"
        }
      ]
    }
  ]
}